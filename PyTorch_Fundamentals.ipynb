{
  "nbformat": 4,
  "nbformat_minor": 0,
  "metadata": {
    "colab": {
      "provenance": [],
      "authorship_tag": "ABX9TyMUPfjIbRyJYUfKAZ6994nC",
      "include_colab_link": true
    },
    "kernelspec": {
      "name": "python3",
      "display_name": "Python 3"
    },
    "language_info": {
      "name": "python"
    }
  },
  "cells": [
    {
      "cell_type": "markdown",
      "metadata": {
        "id": "view-in-github",
        "colab_type": "text"
      },
      "source": [
        "<a href=\"https://colab.research.google.com/github/lnikam1811/Learning_PyTorch/blob/master/PyTorch_Fundamentals.ipynb\" target=\"_parent\"><img src=\"https://colab.research.google.com/assets/colab-badge.svg\" alt=\"Open In Colab\"/></a>"
      ]
    },
    {
      "cell_type": "code",
      "execution_count": 2,
      "metadata": {
        "colab": {
          "base_uri": "https://localhost:8080/",
          "height": 35
        },
        "id": "PKsKAbVbC2_p",
        "outputId": "035674f2-7a55-4f1f-e4ac-454c76e82a2d"
      },
      "outputs": [
        {
          "output_type": "execute_result",
          "data": {
            "text/plain": [
              "'1.13.0+cu116'"
            ],
            "application/vnd.google.colaboratory.intrinsic+json": {
              "type": "string"
            }
          },
          "metadata": {},
          "execution_count": 2
        }
      ],
      "source": [
        "import torch\n",
        "torch.__version__"
      ]
    },
    {
      "cell_type": "code",
      "source": [
        "#creating scalars and tensors\n",
        "scalar = torch.tensor(7)\n",
        "\n",
        "#calculating dimensions\n",
        "scalar.ndim\n",
        "\n",
        "#retrieving the number from the tensor (on;y works for one element tensor)\n",
        "scalar.item()"
      ],
      "metadata": {
        "id": "x350QMwkD-UF"
      },
      "execution_count": null,
      "outputs": []
    },
    {
      "cell_type": "markdown",
      "source": [
        "Vector is a single dimension tensor but can contain many numbers."
      ],
      "metadata": {
        "id": "MMbZ4bbAEowM"
      }
    },
    {
      "cell_type": "code",
      "source": [
        "vector = torch.tensor([5,5])\n",
        "vector.ndim"
      ],
      "metadata": {
        "id": "fniW9c90EvAU"
      },
      "execution_count": null,
      "outputs": []
    },
    {
      "cell_type": "markdown",
      "source": [
        "The shape tells you how the elements inside them are arranged"
      ],
      "metadata": {
        "id": "kRosbs-RE7X1"
      }
    },
    {
      "cell_type": "code",
      "source": [
        "vector.shape"
      ],
      "metadata": {
        "id": "QBP9DPdDFDlz"
      },
      "execution_count": null,
      "outputs": []
    },
    {
      "cell_type": "markdown",
      "source": [
        "MATRIX has two dimensions"
      ],
      "metadata": {
        "id": "M51Q_FKfFQx6"
      }
    },
    {
      "cell_type": "code",
      "source": [
        "#creating a tensor\n",
        "TENSOR = torch.tensor([[[1, 2, 3],\n",
        "                        [3, 6, 9],\n",
        "                        [2, 4, 5]]])\n",
        "TENSOR"
      ],
      "metadata": {
        "id": "_862xJLJFU5a"
      },
      "execution_count": null,
      "outputs": []
    },
    {
      "cell_type": "code",
      "source": [
        "#creating a random tensor of size (2,5)\n",
        "random_tensor = torch.rand(size=(2,5))\n",
        "random_tensor, random_tensor.dtype, random_tensor.shape, random_tensor.ndim"
      ],
      "metadata": {
        "id": "fq8Kz6KDFzoL"
      },
      "execution_count": null,
      "outputs": []
    },
    {
      "cell_type": "code",
      "source": [
        "#creating tensors of zeroes and ones for masking\n",
        "zeroes = torch.zeroes(size=(3,4))\n",
        "ones = torch.ones(size=(3,4))"
      ],
      "metadata": {
        "id": "IeSipD_MGSdO"
      },
      "execution_count": null,
      "outputs": []
    },
    {
      "cell_type": "code",
      "source": [
        "#creating a range and tensor like\n",
        "zero_to_ten = torch.arange(start=5, end=15, step=2)\n",
        "ten_zeroes = torch.zeros_like(input=zero_to_ten) #Will have same shape\n"
      ],
      "metadata": {
        "id": "dFPLSB5qGhGW"
      },
      "execution_count": null,
      "outputs": []
    },
    {
      "cell_type": "markdown",
      "source": [
        "# Tensor datatypes"
      ],
      "metadata": {
        "id": "veqTbJWCG9fO"
      }
    },
    {
      "cell_type": "code",
      "source": [],
      "metadata": {
        "id": "_qGFEN4EHBov"
      },
      "execution_count": null,
      "outputs": []
    }
  ]
}