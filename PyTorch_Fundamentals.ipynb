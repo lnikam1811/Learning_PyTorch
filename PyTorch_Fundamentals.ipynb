{
  "nbformat": 4,
  "nbformat_minor": 0,
  "metadata": {
    "colab": {
      "provenance": [],
      "authorship_tag": "ABX9TyOedEPhicDfvpianOz5rpoq",
      "include_colab_link": true
    },
    "kernelspec": {
      "name": "python3",
      "display_name": "Python 3"
    },
    "language_info": {
      "name": "python"
    }
  },
  "cells": [
    {
      "cell_type": "markdown",
      "metadata": {
        "id": "view-in-github",
        "colab_type": "text"
      },
      "source": [
        "<a href=\"https://colab.research.google.com/github/lnikam1811/Learning_PyTorch/blob/master/PyTorch_Fundamentals.ipynb\" target=\"_parent\"><img src=\"https://colab.research.google.com/assets/colab-badge.svg\" alt=\"Open In Colab\"/></a>"
      ]
    },
    {
      "cell_type": "code",
      "execution_count": 2,
      "metadata": {
        "colab": {
          "base_uri": "https://localhost:8080/",
          "height": 36
        },
        "id": "PKsKAbVbC2_p",
        "outputId": "d6863f15-35d7-4324-809e-3f47740eb289"
      },
      "outputs": [
        {
          "output_type": "execute_result",
          "data": {
            "text/plain": [
              "'1.13.0+cu116'"
            ],
            "application/vnd.google.colaboratory.intrinsic+json": {
              "type": "string"
            }
          },
          "metadata": {},
          "execution_count": 2
        }
      ],
      "source": [
        "import torch\n",
        "torch.__version__"
      ]
    },
    {
      "cell_type": "code",
      "source": [
        "#creating scalars and tensors\n",
        "scalar = torch.tensor(7)\n",
        "\n",
        "#calculating dimensions\n",
        "scalar.ndim\n",
        "\n",
        "#retrieving the number from the tensor (on;y works for one element tensor)\n",
        "scalar.item()"
      ],
      "metadata": {
        "id": "x350QMwkD-UF",
        "colab": {
          "base_uri": "https://localhost:8080/"
        },
        "outputId": "3c99113f-e1e6-44b0-eecd-8a3b45a964fd"
      },
      "execution_count": 3,
      "outputs": [
        {
          "output_type": "execute_result",
          "data": {
            "text/plain": [
              "7"
            ]
          },
          "metadata": {},
          "execution_count": 3
        }
      ]
    },
    {
      "cell_type": "markdown",
      "source": [
        "Vector is a single dimension tensor but can contain many numbers."
      ],
      "metadata": {
        "id": "MMbZ4bbAEowM"
      }
    },
    {
      "cell_type": "code",
      "source": [
        "vector = torch.tensor([5,5])\n",
        "vector.ndim"
      ],
      "metadata": {
        "id": "fniW9c90EvAU",
        "colab": {
          "base_uri": "https://localhost:8080/"
        },
        "outputId": "ad28a0df-cbf9-4d29-a738-e50cbc6dde94"
      },
      "execution_count": 4,
      "outputs": [
        {
          "output_type": "execute_result",
          "data": {
            "text/plain": [
              "1"
            ]
          },
          "metadata": {},
          "execution_count": 4
        }
      ]
    },
    {
      "cell_type": "markdown",
      "source": [
        "The shape tells you how the elements inside them are arranged"
      ],
      "metadata": {
        "id": "kRosbs-RE7X1"
      }
    },
    {
      "cell_type": "code",
      "source": [
        "vector.shape"
      ],
      "metadata": {
        "id": "QBP9DPdDFDlz",
        "colab": {
          "base_uri": "https://localhost:8080/"
        },
        "outputId": "13c8f9dd-9dcd-4d19-8fcc-5c9573eee386"
      },
      "execution_count": 5,
      "outputs": [
        {
          "output_type": "execute_result",
          "data": {
            "text/plain": [
              "torch.Size([2])"
            ]
          },
          "metadata": {},
          "execution_count": 5
        }
      ]
    },
    {
      "cell_type": "markdown",
      "source": [
        "MATRIX has two dimensions"
      ],
      "metadata": {
        "id": "M51Q_FKfFQx6"
      }
    },
    {
      "cell_type": "code",
      "source": [
        "#creating a tensor\n",
        "TENSOR = torch.tensor([[[1, 2, 3],\n",
        "                        [3, 6, 9],\n",
        "                        [2, 4, 5]]])\n",
        "TENSOR.shape"
      ],
      "metadata": {
        "id": "_862xJLJFU5a",
        "colab": {
          "base_uri": "https://localhost:8080/"
        },
        "outputId": "89690672-e01d-46f0-f46d-cb569508fc06"
      },
      "execution_count": 6,
      "outputs": [
        {
          "output_type": "execute_result",
          "data": {
            "text/plain": [
              "torch.Size([1, 3, 3])"
            ]
          },
          "metadata": {},
          "execution_count": 6
        }
      ]
    },
    {
      "cell_type": "code",
      "source": [
        "#creating a random tensor of size (2,5)\n",
        "random_tensor = torch.rand(size=(2,5))\n",
        "random_tensor, random_tensor.dtype, random_tensor.shape, random_tensor.ndim"
      ],
      "metadata": {
        "id": "fq8Kz6KDFzoL",
        "colab": {
          "base_uri": "https://localhost:8080/"
        },
        "outputId": "401b21fb-1539-44c9-e870-4085ef2b73c7"
      },
      "execution_count": 7,
      "outputs": [
        {
          "output_type": "execute_result",
          "data": {
            "text/plain": [
              "(tensor([[0.3072, 0.4596, 0.5341, 0.1780, 0.9150],\n",
              "         [0.1575, 0.3409, 0.2938, 0.0247, 0.9181]]),\n",
              " torch.float32,\n",
              " torch.Size([2, 5]),\n",
              " 2)"
            ]
          },
          "metadata": {},
          "execution_count": 7
        }
      ]
    },
    {
      "cell_type": "code",
      "source": [
        "#creating tensors of zeroes and ones for masking\n",
        "zeros = torch.zeros(size=(3,4))\n",
        "ones = torch.ones(size=(3,4))\n",
        "print(zeros, ones)"
      ],
      "metadata": {
        "id": "IeSipD_MGSdO",
        "colab": {
          "base_uri": "https://localhost:8080/"
        },
        "outputId": "9032629d-381d-4fe2-d32d-46cbc156babd"
      },
      "execution_count": 11,
      "outputs": [
        {
          "output_type": "stream",
          "name": "stdout",
          "text": [
            "tensor([[0., 0., 0., 0.],\n",
            "        [0., 0., 0., 0.],\n",
            "        [0., 0., 0., 0.]]) tensor([[1., 1., 1., 1.],\n",
            "        [1., 1., 1., 1.],\n",
            "        [1., 1., 1., 1.]])\n"
          ]
        }
      ]
    },
    {
      "cell_type": "code",
      "source": [
        "#creating a range and tensor like\n",
        "zero_to_ten = torch.arange(start=5, end=15, step=2)\n",
        "ten_zeroes = torch.zeros_like(input=zero_to_ten) #Will have same shape\n",
        "print(ten_zeroes)"
      ],
      "metadata": {
        "id": "dFPLSB5qGhGW",
        "colab": {
          "base_uri": "https://localhost:8080/"
        },
        "outputId": "3be7ecff-543a-4ff8-bdf8-a43e690c7b0a"
      },
      "execution_count": 12,
      "outputs": [
        {
          "output_type": "stream",
          "name": "stdout",
          "text": [
            "tensor([0, 0, 0, 0, 0])\n"
          ]
        }
      ]
    },
    {
      "cell_type": "markdown",
      "source": [
        "# Tensor datatypes"
      ],
      "metadata": {
        "id": "veqTbJWCG9fO"
      }
    },
    {
      "cell_type": "code",
      "source": [
        "float_32_tensor = torch.tensor([3.0, 6.0, 9.0],\n",
        "                               dtype = None,\n",
        "                               device = None,\n",
        "                               requires_grad = False)\n",
        "\n",
        "float_32_tensor.shape, float_32_tensor.dtype, float_32_tensor.device"
      ],
      "metadata": {
        "id": "_qGFEN4EHBov",
        "colab": {
          "base_uri": "https://localhost:8080/"
        },
        "outputId": "ce411f3d-7e40-4735-d9c9-cd3663c623b8"
      },
      "execution_count": 13,
      "outputs": [
        {
          "output_type": "execute_result",
          "data": {
            "text/plain": [
              "(torch.Size([3]), torch.float32, device(type='cpu'))"
            ]
          },
          "metadata": {},
          "execution_count": 13
        }
      ]
    },
    {
      "cell_type": "code",
      "source": [
        "float_16_tensor = torch.tensor([3.0, 6.0, 9.0],\n",
        "                               dtype = torch.float16)\n",
        "float_16_tensor.dtype"
      ],
      "metadata": {
        "colab": {
          "base_uri": "https://localhost:8080/"
        },
        "id": "wh0FmmVqaxbU",
        "outputId": "6d3590f9-fc50-43da-92c7-75442519ba36"
      },
      "execution_count": null,
      "outputs": [
        {
          "output_type": "execute_result",
          "data": {
            "text/plain": [
              "torch.float16"
            ]
          },
          "metadata": {},
          "execution_count": 6
        }
      ]
    },
    {
      "cell_type": "markdown",
      "source": [
        "Three of the most common attributes need to find out about tensors are:\n",
        "\n",
        "shape: what shape is the tensor?\n",
        "\n",
        "dtype: what datatype are the elements within the tensor stored in?\n",
        "\n",
        "device: what device is the tensor stored on?\n",
        "\n",
        "`Sing the song for error: What? What? where? - shape , dtype, device`"
      ],
      "metadata": {
        "id": "KCEmqM00bdOf"
      }
    },
    {
      "cell_type": "code",
      "source": [
        "#create a tensor\n",
        "some_tensor = torch.rand(3, 4)\n",
        "\n",
        "#find out details about it\n",
        "print(some_tensor)\n",
        "print(f\"Shape of tensor: {some_tensor.shape}\")\n",
        "print(f\"Datatype of tensor: {some_tensor.dtype}\")\n",
        "print(f\"Device tensor is stored on: {some_tensor.device}\")"
      ],
      "metadata": {
        "colab": {
          "base_uri": "https://localhost:8080/"
        },
        "id": "O8QrUiVjbuCV",
        "outputId": "c16738b8-bbed-457a-b702-aed04bc9fb88"
      },
      "execution_count": 14,
      "outputs": [
        {
          "output_type": "stream",
          "name": "stdout",
          "text": [
            "tensor([[0.9077, 0.0479, 0.1793, 0.0247],\n",
            "        [0.2817, 0.1839, 0.1102, 0.6621],\n",
            "        [0.2366, 0.8795, 0.2130, 0.9279]])\n",
            "Shape of tensor: torch.Size([3, 4])\n",
            "Datatype of tensor: torch.float32\n",
            "Device tensor is stored on: cpu\n"
          ]
        }
      ]
    },
    {
      "cell_type": "markdown",
      "source": [
        "# Manipulating Tensors\n",
        "\n",
        "\n",
        "\n",
        "*   Addition\n",
        "*   Substraction\n",
        "*   Multiplaction (element-wise)\n",
        "*   Division\n",
        "*   Matrix Multiplication\n",
        "\n",
        "\n",
        "\n",
        "\n",
        "\n",
        "\n"
      ],
      "metadata": {
        "id": "vxKjnTALcmz6"
      }
    },
    {
      "cell_type": "code",
      "source": [
        "tensor = torch.tensor([1, 2, 3])\n",
        "tensor + 10\n",
        "tensor * 10\n",
        "tensor = tensor - 10\n",
        "tensor = tensor + 10\n",
        "\n",
        "#multiplication\n",
        "torch.mul(tensor, 10)\n",
        "\n",
        "#Element wise multiplication\n",
        "print(tensor, \"*\", tensor)\n",
        "print(print(\"Equals:\", tensor * tensor))"
      ],
      "metadata": {
        "colab": {
          "base_uri": "https://localhost:8080/"
        },
        "id": "Pdox8DV1dIYT",
        "outputId": "75761b6c-1358-401a-e661-23f7bb292c20"
      },
      "execution_count": null,
      "outputs": [
        {
          "output_type": "stream",
          "name": "stdout",
          "text": [
            "tensor([1, 2, 3]) * tensor([1, 2, 3])\n",
            "Equals: tensor([1, 4, 9])\n",
            "None\n"
          ]
        }
      ]
    },
    {
      "cell_type": "markdown",
      "source": [
        "# Matrix Multiplication\n",
        "torch.matmul()\n",
        "\n",
        "\n",
        "1.   `**The inner dimensions must match:**`\n",
        "\n",
        "(3, 2) @ (3, 2) won't work\n",
        "\n",
        "(2, 3) @ (3, 2) will work\n",
        "\n",
        "(3, 2) @ (2, 3) will work\n",
        "\n",
        "2.   `**resulting matrix has the shape of outer dimensions**`\n",
        "\n",
        "(2, 3) @ (3, 2) -> (2, 2)\n",
        "\n",
        "(3, 2) @ (2, 3) -> (3, 3)\n",
        "\n",
        "Note: \"@\" in Python is the symbol for matrix multiplication."
      ],
      "metadata": {
        "id": "YJWIqjR7ePRc"
      }
    },
    {
      "cell_type": "code",
      "source": [
        "tensor = torch.tensor([1, 2, 3])\n",
        "tensor.shape\n",
        "\n",
        "# Element-wise multiplication \n",
        "# [1*1, 2*2, 3*3] = [1, 4, 9]\n",
        "# Matrix multiplication\n",
        "# [1*1 + 2*2 + 3*3] = [14]\n",
        "\n",
        "print(tensor * tensor)\n",
        "print(torch.matmul(tensor, tensor))\n",
        "# torch.matmul is way faster then @, processing time faster\n"
      ],
      "metadata": {
        "colab": {
          "base_uri": "https://localhost:8080/"
        },
        "id": "4Ilw2HcueXhS",
        "outputId": "92124586-7732-40c7-a979-c7ce19a0640f"
      },
      "execution_count": null,
      "outputs": [
        {
          "output_type": "stream",
          "name": "stdout",
          "text": [
            "tensor([1, 4, 9])\n",
            "tensor(14)\n"
          ]
        }
      ]
    },
    {
      "cell_type": "code",
      "source": [
        "# Shapes need to be in the right way  \n",
        "tensor_A = torch.tensor([[1, 2],\n",
        "                         [3, 4],\n",
        "                         [5, 6]], dtype=torch.float32)\n",
        "\n",
        "tensor_B = torch.tensor([[7, 10],\n",
        "                         [8, 11], \n",
        "                         [9, 12]], dtype=torch.float32)\n",
        "\n",
        "# The operation works when tensor_B is transposed\n",
        "print(f\"Original shapes: tensor_A = {tensor_A.shape}, tensor_B = {tensor_B.shape}\\n\")\n",
        "print(f\"New shapes: tensor_A = {tensor_A.shape} (same as above), tensor_B.T = {tensor_B.T.shape}\\n\")\n",
        "print(f\"Multiplying: {tensor_A.shape} * {tensor_B.T.shape} <- inner dimensions match\\n\")\n",
        "print(\"Output:\\n\")\n",
        "output = torch.matmul(tensor_A, tensor_B.T)\n",
        "print(output) \n",
        "print(f\"\\nOutput shape: {output.shape}\")"
      ],
      "metadata": {
        "colab": {
          "base_uri": "https://localhost:8080/"
        },
        "id": "D5ueu_Z0hB7_",
        "outputId": "64ad5541-901b-4fb3-d4a0-1e60ab4e4b1e"
      },
      "execution_count": null,
      "outputs": [
        {
          "output_type": "stream",
          "name": "stdout",
          "text": [
            "Original shapes: tensor_A = torch.Size([3, 2]), tensor_B = torch.Size([3, 2])\n",
            "\n",
            "New shapes: tensor_A = torch.Size([3, 2]) (same as above), tensor_B.T = torch.Size([2, 3])\n",
            "\n",
            "Multiplying: torch.Size([3, 2]) * torch.Size([2, 3]) <- inner dimensions match\n",
            "\n",
            "Output:\n",
            "\n",
            "tensor([[ 27.,  30.,  33.],\n",
            "        [ 61.,  68.,  75.],\n",
            "        [ 95., 106., 117.]])\n",
            "\n",
            "Output shape: torch.Size([3, 3])\n"
          ]
        }
      ]
    },
    {
      "cell_type": "markdown",
      "source": [
        "http://matrixmultiplication.xyz/\n",
        "\n",
        "Note: A matrix multiplication like this is also referred to as the dot product of two matrices."
      ],
      "metadata": {
        "id": "xhhcUfguhz0w"
      }
    },
    {
      "cell_type": "code",
      "source": [
        "torch.mm(tensor_A, tensor_B.T)\n",
        "\n",
        "# torch.matmul is better then mm because enables broadcasting"
      ],
      "metadata": {
        "colab": {
          "base_uri": "https://localhost:8080/"
        },
        "id": "TXgdESgAhQyx",
        "outputId": "6b41b292-e7a7-4372-d1b9-c340054cd616"
      },
      "execution_count": null,
      "outputs": [
        {
          "output_type": "execute_result",
          "data": {
            "text/plain": [
              "tensor([[ 27.,  30.,  33.],\n",
              "        [ 61.,  68.,  75.],\n",
              "        [ 95., 106., 117.]])"
            ]
          },
          "metadata": {},
          "execution_count": 22
        }
      ]
    },
    {
      "cell_type": "markdown",
      "source": [
        "![image.png](data:image/png;base64,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)"
      ],
      "metadata": {
        "id": "IF_ek6wPjabC"
      }
    },
    {
      "cell_type": "code",
      "source": [
        "#Since the linear layer starts with a random weights matrix\n",
        "torch.manual_seed(42)\n",
        "\n",
        "linear = torch.nn.Linear(in_features=2,\n",
        "                         out_features=6)\n",
        "\n",
        "x = tensor_A\n",
        "output = linear(x)\n",
        "print(f\"Input Shape: {x.shape}\")\n",
        "print(f\"Output:\\n{output}\\n\\nOutput shape: {output.shape}\")"
      ],
      "metadata": {
        "colab": {
          "base_uri": "https://localhost:8080/"
        },
        "id": "VpfGq0qJh4rh",
        "outputId": "9cba4534-bf87-4d3b-e783-7975a440f4fa"
      },
      "execution_count": null,
      "outputs": [
        {
          "output_type": "stream",
          "name": "stdout",
          "text": [
            "Input Shape: torch.Size([3, 2])\n",
            "Output:\n",
            "tensor([[2.2368, 1.2292, 0.4714, 0.3864, 0.1309, 0.9838],\n",
            "        [4.4919, 2.1970, 0.4469, 0.5285, 0.3401, 2.4777],\n",
            "        [6.7469, 3.1648, 0.4224, 0.6705, 0.5493, 3.9716]],\n",
            "       grad_fn=<AddmmBackward0>)\n",
            "\n",
            "Output shape: torch.Size([3, 6])\n"
          ]
        }
      ]
    },
    {
      "cell_type": "code",
      "source": [
        "x = torch.arange(10, 100, 10)\n",
        "torch.max(x), torch.min(x), torch.mean(x.type(torch.float32)), torch.sum(x)"
      ],
      "metadata": {
        "colab": {
          "base_uri": "https://localhost:8080/"
        },
        "id": "wMOPcqK_lWWu",
        "outputId": "1ea3da07-47d2-4eda-e248-13572aad5208"
      },
      "execution_count": null,
      "outputs": [
        {
          "output_type": "execute_result",
          "data": {
            "text/plain": [
              "(tensor(90), tensor(10), tensor(50.), tensor(450))"
            ]
          },
          "metadata": {},
          "execution_count": 37
        }
      ]
    },
    {
      "cell_type": "code",
      "source": [
        "torch.argmax(x), torch.argmin(x)"
      ],
      "metadata": {
        "colab": {
          "base_uri": "https://localhost:8080/"
        },
        "id": "bZyYdc9joh3v",
        "outputId": "8c72822c-b834-4eeb-f8ca-cf092023df2a"
      },
      "execution_count": null,
      "outputs": [
        {
          "output_type": "execute_result",
          "data": {
            "text/plain": [
              "(tensor(8), tensor(0))"
            ]
          },
          "metadata": {},
          "execution_count": 38
        }
      ]
    },
    {
      "cell_type": "code",
      "source": [
        "# Change tensor datatype\n",
        "\n",
        "tensor = torch.arange(10., 100., 10.)\n",
        "tensor.dtype\n",
        "\n",
        "tensor_float16 = tensor.type(torch.float16)\n",
        "tensor_float16"
      ],
      "metadata": {
        "colab": {
          "base_uri": "https://localhost:8080/"
        },
        "id": "q9lhu-Uuo06h",
        "outputId": "43a5d2b0-7a41-4505-fac5-7b7f384bb713"
      },
      "execution_count": null,
      "outputs": [
        {
          "output_type": "execute_result",
          "data": {
            "text/plain": [
              "tensor([10., 20., 30., 40., 50., 60., 70., 80., 90.], dtype=torch.float16)"
            ]
          },
          "metadata": {},
          "execution_count": 40
        }
      ]
    },
    {
      "cell_type": "code",
      "source": [
        "x = torch.arange(1., 8.)\n",
        "x, x.shape"
      ],
      "metadata": {
        "colab": {
          "base_uri": "https://localhost:8080/"
        },
        "id": "lR35JzdFrDau",
        "outputId": "7760fb23-054a-4e9a-9672-f3fa60f60fa6"
      },
      "execution_count": 16,
      "outputs": [
        {
          "output_type": "execute_result",
          "data": {
            "text/plain": [
              "(tensor([1., 2., 3., 4., 5., 6., 7.]), torch.Size([7]))"
            ]
          },
          "metadata": {},
          "execution_count": 16
        }
      ]
    },
    {
      "cell_type": "code",
      "source": [
        "x_reshaped = x.reshape(1, 7)\n",
        "x_reshaped, x_reshaped.shape"
      ],
      "metadata": {
        "colab": {
          "base_uri": "https://localhost:8080/"
        },
        "id": "gggOzMmErH3N",
        "outputId": "67d35f9d-0796-4fb3-e210-dda327fd5977"
      },
      "execution_count": 20,
      "outputs": [
        {
          "output_type": "execute_result",
          "data": {
            "text/plain": [
              "(tensor([[1., 2., 3., 4., 5., 6., 7.]]), torch.Size([1, 7]))"
            ]
          },
          "metadata": {},
          "execution_count": 20
        }
      ]
    },
    {
      "cell_type": "code",
      "source": [
        "z = x.view(1, 7)\n",
        "z, z.shape, x"
      ],
      "metadata": {
        "colab": {
          "base_uri": "https://localhost:8080/"
        },
        "id": "Ie-LduQFrd7O",
        "outputId": "58665fb5-a26b-40bc-c05f-0eba4d18bc5f"
      },
      "execution_count": 24,
      "outputs": [
        {
          "output_type": "execute_result",
          "data": {
            "text/plain": [
              "(tensor([[1., 2., 3., 4., 5., 6., 7.]]),\n",
              " torch.Size([1, 7]),\n",
              " tensor([1., 2., 3., 4., 5., 6., 7.]))"
            ]
          },
          "metadata": {},
          "execution_count": 24
        }
      ]
    },
    {
      "cell_type": "markdown",
      "source": [
        "Remember though, changing the view of a tensor with `torch.view()` really only creates a new view of the same tensor.\n",
        "\n",
        "So changing the view changes the original tensor too."
      ],
      "metadata": {
        "id": "-Rq-yDWQsDzt"
      }
    },
    {
      "cell_type": "code",
      "source": [
        "# Changing z change x\n",
        "z[:, 0] = 5\n",
        "z, x"
      ],
      "metadata": {
        "colab": {
          "base_uri": "https://localhost:8080/"
        },
        "id": "Aks_TccKsDPC",
        "outputId": "9f83de74-fb50-46bc-9e1b-7d1a56563f9b"
      },
      "execution_count": 25,
      "outputs": [
        {
          "output_type": "execute_result",
          "data": {
            "text/plain": [
              "(tensor([[5., 2., 3., 4., 5., 6., 7.]]), tensor([5., 2., 3., 4., 5., 6., 7.]))"
            ]
          },
          "metadata": {},
          "execution_count": 25
        }
      ]
    },
    {
      "cell_type": "code",
      "source": [
        "# Stack tensors on top of each other\n",
        "x_stacked_dim0 = torch.stack([x,x,x,x,x], dim=0) \n",
        "x_stacked_dim1 = torch.stack([x,x,x,x,x], dim=1) \n",
        "print(x_stacked_dim0)\n",
        "print(x_stacked_dim1)\n",
        "\n"
      ],
      "metadata": {
        "colab": {
          "base_uri": "https://localhost:8080/"
        },
        "id": "dmtGSekJsSYN",
        "outputId": "dbe8db15-b853-407a-fe33-7043bf34814a"
      },
      "execution_count": 26,
      "outputs": [
        {
          "output_type": "stream",
          "name": "stdout",
          "text": [
            "tensor([[5., 2., 3., 4., 5., 6., 7.],\n",
            "        [5., 2., 3., 4., 5., 6., 7.],\n",
            "        [5., 2., 3., 4., 5., 6., 7.],\n",
            "        [5., 2., 3., 4., 5., 6., 7.],\n",
            "        [5., 2., 3., 4., 5., 6., 7.]])\n",
            "tensor([[5., 5., 5., 5., 5.],\n",
            "        [2., 2., 2., 2., 2.],\n",
            "        [3., 3., 3., 3., 3.],\n",
            "        [4., 4., 4., 4., 4.],\n",
            "        [5., 5., 5., 5., 5.],\n",
            "        [6., 6., 6., 6., 6.],\n",
            "        [7., 7., 7., 7., 7.]])\n"
          ]
        }
      ]
    },
    {
      "cell_type": "code",
      "source": [
        "print(f\"Previous tensor: {x_reshaped}\")\n",
        "print(f\"Previous shape: {x_reshaped.shape}\")\n",
        "\n",
        "# squeeze : Remove extra dimension from x_reshaped\n",
        "x_squeezed = x_reshaped.squeeze()\n",
        "print(f\"\\nNew tensor: {x_squeezed}\")\n",
        "print(f\"New shape: {x_squeezed.shape}\")"
      ],
      "metadata": {
        "colab": {
          "base_uri": "https://localhost:8080/"
        },
        "id": "3LZGOtVPtKe9",
        "outputId": "70ddcb18-9206-49fb-cee4-4a7a07f86cc0"
      },
      "execution_count": null,
      "outputs": [
        {
          "output_type": "stream",
          "name": "stdout",
          "text": [
            "Previous tensor: tensor([[5., 2., 3., 4., 5., 6., 7.]])\n",
            "Previous shape: torch.Size([1, 7])\n",
            "\n",
            "New tensor: tensor([5., 2., 3., 4., 5., 6., 7.])\n",
            "New shape: torch.Size([7])\n"
          ]
        }
      ]
    },
    {
      "cell_type": "code",
      "source": [
        "# Create tensor with specific shape\n",
        "x_original = torch.rand(size=(224, 224, 3))\n",
        "\n",
        "# Permute the original tensor to rearrange the axis order\n",
        "x_permuted = x_original.permute(2, 0, 1) # shifts axis 0->1, 1->2, 2->0\n",
        "\n",
        "print(f\"Previous shape: {x_original.shape}\")\n",
        "print(f\"New shape: {x_permuted.shape}\")"
      ],
      "metadata": {
        "colab": {
          "base_uri": "https://localhost:8080/"
        },
        "id": "J6vxWscVtVdE",
        "outputId": "3e542c49-22ee-4c8a-9d67-420dc114b89c"
      },
      "execution_count": null,
      "outputs": [
        {
          "output_type": "stream",
          "name": "stdout",
          "text": [
            "Previous shape: torch.Size([224, 224, 3])\n",
            "New shape: torch.Size([3, 224, 224])\n"
          ]
        }
      ]
    },
    {
      "cell_type": "markdown",
      "source": [
        "Note: Because permuting returns a view (shares the same data as the original), the values in the permuted tensor will be the same as the original tensor and if you change the values in the view, it will change the values of the original."
      ],
      "metadata": {
        "id": "wm8VIRNwuCVK"
      }
    },
    {
      "cell_type": "markdown",
      "source": [
        "# Indexing (selecting data from tensors)"
      ],
      "metadata": {
        "id": "cc0MfSq-vD92"
      }
    },
    {
      "cell_type": "code",
      "source": [
        "x = torch.arange(1, 10).reshape(1, 3, 3)\n",
        "x, x.shape, x[:, 0]"
      ],
      "metadata": {
        "colab": {
          "base_uri": "https://localhost:8080/"
        },
        "id": "8YMckwl0uHbb",
        "outputId": "cd35d943-d908-46c9-d476-2af15a0705e5"
      },
      "execution_count": null,
      "outputs": [
        {
          "output_type": "execute_result",
          "data": {
            "text/plain": [
              "(tensor([[[1, 2, 3],\n",
              "          [4, 5, 6],\n",
              "          [7, 8, 9]]]), torch.Size([1, 3, 3]), tensor([[1, 2, 3]]))"
            ]
          },
          "metadata": {},
          "execution_count": 61
        }
      ]
    },
    {
      "cell_type": "code",
      "source": [
        "# Get all values of 0th & 1st dimensions but only index 1 of 2nd dimension\n",
        "x[:, :, 1]"
      ],
      "metadata": {
        "colab": {
          "base_uri": "https://localhost:8080/"
        },
        "id": "nK8s1JKRvyqs",
        "outputId": "45c55ad3-c381-40cc-fd0f-a5b674cf7ec0"
      },
      "execution_count": null,
      "outputs": [
        {
          "output_type": "execute_result",
          "data": {
            "text/plain": [
              "tensor([[2, 5, 8]])"
            ]
          },
          "metadata": {},
          "execution_count": 62
        }
      ]
    },
    {
      "cell_type": "markdown",
      "source": [
        "# PyTorch tensors & NumPy\n",
        "`torch.from_numpy(ndarray)` NumPy → PyTorch tensor\n",
        "\n",
        "`torch.Tensor.numpy()` PyTorch tensor → NumpPy array"
      ],
      "metadata": {
        "id": "Uc4qqCi8wEg4"
      }
    },
    {
      "cell_type": "code",
      "source": [
        "import numpy as np\n",
        "array = np.arange(1.0, 8.0)\n",
        "tensor = torch.from_numpy(array)\n",
        "array, tensor"
      ],
      "metadata": {
        "colab": {
          "base_uri": "https://localhost:8080/"
        },
        "id": "S1ojpJcBxEVM",
        "outputId": "f396eaa1-a001-4d83-dcdc-95d9af2e76ed"
      },
      "execution_count": null,
      "outputs": [
        {
          "output_type": "execute_result",
          "data": {
            "text/plain": [
              "(array([1., 2., 3., 4., 5., 6., 7.]),\n",
              " tensor([1., 2., 3., 4., 5., 6., 7.], dtype=torch.float64))"
            ]
          },
          "metadata": {},
          "execution_count": 63
        }
      ]
    },
    {
      "cell_type": "code",
      "source": [
        "tensor = torch.ones(7)\n",
        "numpy_tensor = tensor.numpy()\n",
        "tensor, numpy_tensor"
      ],
      "metadata": {
        "colab": {
          "base_uri": "https://localhost:8080/"
        },
        "id": "ofBDX8SByLVw",
        "outputId": "95541b60-164e-4a98-abd5-2585c31c9557"
      },
      "execution_count": null,
      "outputs": [
        {
          "output_type": "execute_result",
          "data": {
            "text/plain": [
              "(tensor([1., 1., 1., 1., 1., 1., 1.]),\n",
              " array([1., 1., 1., 1., 1., 1., 1.], dtype=float32))"
            ]
          },
          "metadata": {},
          "execution_count": 64
        }
      ]
    },
    {
      "cell_type": "code",
      "source": [
        "torch.cuda.is_available()"
      ],
      "metadata": {
        "colab": {
          "base_uri": "https://localhost:8080/"
        },
        "id": "dV9dtD5g0xjy",
        "outputId": "f383bd45-101a-4d31-f466-2b030acf1765"
      },
      "execution_count": null,
      "outputs": [
        {
          "output_type": "execute_result",
          "data": {
            "text/plain": [
              "False"
            ]
          },
          "metadata": {},
          "execution_count": 70
        }
      ]
    }
  ]
}