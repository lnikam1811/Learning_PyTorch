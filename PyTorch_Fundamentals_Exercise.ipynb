{
  "nbformat": 4,
  "nbformat_minor": 0,
  "metadata": {
    "colab": {
      "provenance": [],
      "authorship_tag": "ABX9TyMp6N1Z6t8bywJJV7i90sSS",
      "include_colab_link": true
    },
    "kernelspec": {
      "name": "python3",
      "display_name": "Python 3"
    },
    "language_info": {
      "name": "python"
    }
  },
  "cells": [
    {
      "cell_type": "markdown",
      "metadata": {
        "id": "view-in-github",
        "colab_type": "text"
      },
      "source": [
        "<a href=\"https://colab.research.google.com/github/lnikam1811/Learning_PyTorch/blob/master/PyTorch_Fundamentals_Exercise.ipynb\" target=\"_parent\"><img src=\"https://colab.research.google.com/assets/colab-badge.svg\" alt=\"Open In Colab\"/></a>"
      ]
    },
    {
      "cell_type": "markdown",
      "source": [
        "# 2. Create a random tensor with shape `(7,7)`"
      ],
      "metadata": {
        "id": "wKWx9yGqHEB0"
      }
    },
    {
      "cell_type": "code",
      "execution_count": 1,
      "metadata": {
        "colab": {
          "base_uri": "https://localhost:8080/"
        },
        "id": "Qz2146-CCSlQ",
        "outputId": "580857d0-73d8-42db-da03-e283c7f37852"
      },
      "outputs": [
        {
          "output_type": "execute_result",
          "data": {
            "text/plain": [
              "tensor([[0.1304, 0.3883, 0.2505, 0.2305, 0.0554, 0.9433, 0.3859],\n",
              "        [0.2043, 0.2932, 0.3435, 0.5904, 0.0692, 0.8082, 0.6674],\n",
              "        [0.9404, 0.4283, 0.8705, 0.3838, 0.3238, 0.9270, 0.4399],\n",
              "        [0.0316, 0.0435, 0.7070, 0.0088, 0.4973, 0.4332, 0.6592],\n",
              "        [0.4227, 0.7970, 0.7590, 0.7013, 0.6075, 0.8798, 0.1880],\n",
              "        [0.5513, 0.5549, 0.2753, 0.8912, 0.4791, 0.3956, 0.1389],\n",
              "        [0.8311, 0.5892, 0.0235, 0.9175, 0.2452, 0.5833, 0.6253]])"
            ]
          },
          "metadata": {},
          "execution_count": 1
        }
      ],
      "source": [
        "import torch\n",
        "\n",
        "A = torch.rand(size=(7, 7))\n",
        "A"
      ]
    },
    {
      "cell_type": "markdown",
      "source": [
        "# 3. Perform a matrix multiplication on the tensor from 2 with another random tensor with shape `(1, 7)` (hint: you may have to transpose the second tensor)."
      ],
      "metadata": {
        "id": "GISzWvk6Hhqk"
      }
    },
    {
      "cell_type": "code",
      "source": [
        "B = torch.rand(size=(1,7))\n",
        "dot_AB = torch.matmul(A, B.T)\n",
        "dot_AB"
      ],
      "metadata": {
        "colab": {
          "base_uri": "https://localhost:8080/"
        },
        "id": "JVqPRM9oHpxf",
        "outputId": "1feabc45-e621-4389-8df3-8e68fe9a129d"
      },
      "execution_count": 4,
      "outputs": [
        {
          "output_type": "execute_result",
          "data": {
            "text/plain": [
              "tensor([[1.2199],\n",
              "        [1.2957],\n",
              "        [1.8263],\n",
              "        [0.8634],\n",
              "        [1.8186],\n",
              "        [1.3081],\n",
              "        [1.7400]])"
            ]
          },
          "metadata": {},
          "execution_count": 4
        }
      ]
    },
    {
      "cell_type": "markdown",
      "source": [
        "# 4. Set the random seed to 0 and do 2 & 3 over again."
      ],
      "metadata": {
        "id": "72qzeF1nICl5"
      }
    },
    {
      "cell_type": "code",
      "source": [
        "import random\n",
        "random.seed(0)\n",
        "C = torch.rand(7, 7)\n",
        "D = torch.rand(1, 7)\n",
        "dot_CD = torch.matmul(C, D.T)\n",
        "dot_CD, dot_CD.shape"
      ],
      "metadata": {
        "colab": {
          "base_uri": "https://localhost:8080/"
        },
        "id": "k2r6kNIjIFo6",
        "outputId": "85dc254e-dc6d-4e36-8c32-7dd58bf6adf6"
      },
      "execution_count": 8,
      "outputs": [
        {
          "output_type": "execute_result",
          "data": {
            "text/plain": [
              "(tensor([[1.8542],\n",
              "         [1.9611],\n",
              "         [2.2884],\n",
              "         [3.0481],\n",
              "         [1.7067],\n",
              "         [2.5290],\n",
              "         [1.7989]]), torch.Size([7, 1]))"
            ]
          },
          "metadata": {},
          "execution_count": 8
        }
      ]
    },
    {
      "cell_type": "markdown",
      "source": [
        "# 5. Speaking of random seeds, we saw how to set it with torch.manual_seed() but is there a GPU equivalent? (hint: you'll need to look into the documentation for torch.cuda for this one)\n",
        "If there is, set the GPU random seed to 1234."
      ],
      "metadata": {
        "id": "53015jALJJdl"
      }
    },
    {
      "cell_type": "code",
      "source": [
        "torch.cuda.seed()"
      ],
      "metadata": {
        "id": "8eVIQUGWJ_C8"
      },
      "execution_count": 12,
      "outputs": []
    },
    {
      "cell_type": "markdown",
      "source": [
        "6. Create two random tensors of shape (2, 3) and send them both to the GPU (you'll need access to a GPU for this). Set torch.manual_seed(1234) when creating the tensors (this doesn't have to be the GPU random seed). The output should be something like:\n",
        "`Device: cuda`\n",
        "`(tensor([[0.0290, 0.4019, 0.2598],`\n",
        "         `[0.3666, 0.0583, 0.7006]], device='cuda:0'),`\n",
        " `tensor([[0.0518, 0.4681, 0.6738],`\n",
        "         `[0.3315, 0.7837, 0.5631]], device='cuda:0'))`"
      ],
      "metadata": {
        "id": "MraDbnG_Kh69"
      }
    },
    {
      "cell_type": "code",
      "source": [
        "import torch \n",
        "torch.manual_seed(1234)\n",
        "device = \"cuda\" if torch.cuda.is_available() else \"cpu\"\n",
        "\n",
        "A = torch.rand(size=(2, 3))\n",
        "B = torch.rand(size=(2, 3))\n",
        "\n",
        "A_gpu = A.to(device)\n",
        "B_gpu = B.to(device)\n",
        "\n",
        "print(A_gpu)\n",
        "print(B_gpu)\n"
      ],
      "metadata": {
        "colab": {
          "base_uri": "https://localhost:8080/"
        },
        "id": "qPNfj5XOKtr4",
        "outputId": "aef4583b-21e8-481f-f894-3f7270f3324f"
      },
      "execution_count": 14,
      "outputs": [
        {
          "output_type": "stream",
          "name": "stdout",
          "text": [
            "tensor([[0.0290, 0.4019, 0.2598],\n",
            "        [0.3666, 0.0583, 0.7006]])\n",
            "tensor([[0.0518, 0.4681, 0.6738],\n",
            "        [0.3315, 0.7837, 0.5631]])\n"
          ]
        }
      ]
    },
    {
      "cell_type": "markdown",
      "source": [
        "# 7. Perform a matrix multiplication on the tensors you created in 6 (again, you may have to adjust the shapes of one of the tensors).\n",
        "The output should look like:\n",
        "```\n",
        "(tensor([[0.3647, 0.4709],\n",
        "         [0.5184, 0.5617]], device='cuda:0'), torch.Size([2, 2]))\n",
        "```         \n",
        "\n",
        "\n",
        "\n"
      ],
      "metadata": {
        "id": "V3b_IrUdPMvy"
      }
    },
    {
      "cell_type": "code",
      "source": [
        "dot_AB = torch.matmul(A, B.T)\n",
        "dot_AB, dot_AB.shape"
      ],
      "metadata": {
        "colab": {
          "base_uri": "https://localhost:8080/"
        },
        "id": "U92rqIqWPXnQ",
        "outputId": "7b04758d-335a-433b-b6ec-35955291aace"
      },
      "execution_count": 16,
      "outputs": [
        {
          "output_type": "execute_result",
          "data": {
            "text/plain": [
              "(tensor([[0.3647, 0.4709],\n",
              "         [0.5184, 0.5617]]), torch.Size([2, 2]))"
            ]
          },
          "metadata": {},
          "execution_count": 16
        }
      ]
    },
    {
      "cell_type": "markdown",
      "source": [
        "# 8. Find the maximum and minimum values of the output of 7."
      ],
      "metadata": {
        "id": "tEBVAOF4QGJD"
      }
    },
    {
      "cell_type": "code",
      "source": [
        "torch.max(dot_AB), torch.min(dot_AB)"
      ],
      "metadata": {
        "colab": {
          "base_uri": "https://localhost:8080/"
        },
        "id": "adyuYLmtQNFc",
        "outputId": "23af53da-4bb3-4b92-acbc-840d5ed6ec95"
      },
      "execution_count": 17,
      "outputs": [
        {
          "output_type": "execute_result",
          "data": {
            "text/plain": [
              "(tensor(0.5617), tensor(0.3647))"
            ]
          },
          "metadata": {},
          "execution_count": 17
        }
      ]
    },
    {
      "cell_type": "markdown",
      "source": [
        "# 9. Find the maximum and minimum index values of the output of 7."
      ],
      "metadata": {
        "id": "TyUPPv3DQaHt"
      }
    },
    {
      "cell_type": "code",
      "source": [
        "torch.argmax(dot_AB), torch.argmin(dot_AB)"
      ],
      "metadata": {
        "colab": {
          "base_uri": "https://localhost:8080/"
        },
        "id": "Z4iFrLl_QcoS",
        "outputId": "6e11276c-8e46-42e3-f376-d9b746c7f1a0"
      },
      "execution_count": 18,
      "outputs": [
        {
          "output_type": "execute_result",
          "data": {
            "text/plain": [
              "(tensor(3), tensor(0))"
            ]
          },
          "metadata": {},
          "execution_count": 18
        }
      ]
    },
    {
      "cell_type": "markdown",
      "source": [
        "# 10. Make a random tensor with shape (1, 1, 1, 10) and then create a new tensor with all the 1 dimensions removed to be left with a tensor of shape (10). Set the seed to 7 when you create it and print out the first tensor and it's shape as well as the second tensor and it's shape.\n",
        "```\n",
        "The output should look like:\n",
        "\n",
        "tensor([[[[0.5349, 0.1988, 0.6592, 0.6569, 0.2328, 0.4251, 0.2071, 0.6297,\n",
        "           0.3653, 0.8513]]]]) torch.Size([1, 1, 1, 10])\n",
        "tensor([0.5349, 0.1988, 0.6592, 0.6569, 0.2328, 0.4251, 0.2071, 0.6297, 0.3653,\n",
        "        0.8513]) torch.Size([10])\n",
        "```"
      ],
      "metadata": {
        "id": "DpaO0te7QrsB"
      }
    },
    {
      "cell_type": "code",
      "source": [
        "torch.manual_seed(7)\n",
        "X = torch.rand(size=(1,1,1,10))\n",
        "new_x = torch.squeeze(X)\n",
        "X, X.shape, new_x, new_x.shape"
      ],
      "metadata": {
        "colab": {
          "base_uri": "https://localhost:8080/"
        },
        "id": "0_q2AOoEQxHD",
        "outputId": "ad550041-e32a-4614-f0dc-60e70670a16f"
      },
      "execution_count": 20,
      "outputs": [
        {
          "output_type": "execute_result",
          "data": {
            "text/plain": [
              "(tensor([[[[0.5349, 0.1988, 0.6592, 0.6569, 0.2328, 0.4251, 0.2071, 0.6297,\n",
              "            0.3653, 0.8513]]]]),\n",
              " torch.Size([1, 1, 1, 10]),\n",
              " tensor([0.5349, 0.1988, 0.6592, 0.6569, 0.2328, 0.4251, 0.2071, 0.6297, 0.3653,\n",
              "         0.8513]),\n",
              " torch.Size([10]))"
            ]
          },
          "metadata": {},
          "execution_count": 20
        }
      ]
    }
  ]
}